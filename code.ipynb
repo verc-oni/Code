{
 "cells": [
  {
   "cell_type": "code",
   "execution_count": 1,
   "metadata": {},
   "outputs": [],
   "source": [
    "import pandas as pd\n",
    "import numpy as np\n",
    "import seaborn as sns\n",
    "import matplotlib.pyplot as plt\n",
    "import warnings\n",
    "\n",
    "\n",
    "from sklearn.svm import SVR\n",
    "from sklearn.model_selection import train_test_split, TimeSeriesSplit, GridSearchCV\n",
    "from sklearn.metrics import mean_absolute_error, mean_squared_error, r2_score, root_mean_squared_error\n",
    "from sklearn.linear_model import LinearRegression, Ridge\n",
    "from sklearn.ensemble import RandomForestRegressor, StackingRegressor\n",
    "from sklearn.preprocessing import PolynomialFeatures\n",
    "from sklearn.pipeline import make_pipeline\n",
    "from xgboost import XGBRegressor\n",
    "from lightgbm import LGBMRegressor\n",
    "from statsmodels.tsa.arima.model import ARIMA\n",
    "from dateutil import parser\n",
    "from joblib import dump\n",
    "\n",
    "warnings.filterwarnings('ignore')"
   ]
  },
  {
   "cell_type": "code",
   "execution_count": 2,
   "metadata": {},
   "outputs": [
    {
     "name": "stdout",
     "output_type": "stream",
     "text": [
      "<class 'pandas.core.frame.DataFrame'>\n",
      "RangeIndex: 58824 entries, 0 to 58823\n",
      "Data columns (total 5 columns):\n",
      " #   Column  Non-Null Count  Dtype  \n",
      "---  ------  --------------  -----  \n",
      " 0   state   58824 non-null  object \n",
      " 1   item    58824 non-null  object \n",
      " 2   Unit    58824 non-null  object \n",
      " 3   Date    58824 non-null  object \n",
      " 4   Value   58824 non-null  float64\n",
      "dtypes: float64(1), object(4)\n",
      "memory usage: 2.2+ MB\n"
     ]
    }
   ],
   "source": [
    "# Collet Data\n",
    "data = pd.read_csv('dataset/dataset_2.csv')\n",
    "# # Basic data check\n",
    "data.head()\n",
    "data.info()"
   ]
  },
  {
   "cell_type": "code",
   "execution_count": 3,
   "metadata": {},
   "outputs": [
    {
     "data": {
      "text/html": [
       "<div>\n",
       "<style scoped>\n",
       "    .dataframe tbody tr th:only-of-type {\n",
       "        vertical-align: middle;\n",
       "    }\n",
       "\n",
       "    .dataframe tbody tr th {\n",
       "        vertical-align: top;\n",
       "    }\n",
       "\n",
       "    .dataframe thead th {\n",
       "        text-align: right;\n",
       "    }\n",
       "</style>\n",
       "<table border=\"1\" class=\"dataframe\">\n",
       "  <thead>\n",
       "    <tr style=\"text-align: right;\">\n",
       "      <th></th>\n",
       "      <th>state</th>\n",
       "      <th>item</th>\n",
       "      <th>Unit</th>\n",
       "      <th>Value</th>\n",
       "      <th>Date</th>\n",
       "    </tr>\n",
       "  </thead>\n",
       "  <tbody>\n",
       "    <tr>\n",
       "      <th>0</th>\n",
       "      <td>Nigeria</td>\n",
       "      <td>Agric eggs medium size</td>\n",
       "      <td>1 Dozen</td>\n",
       "      <td>328.844837</td>\n",
       "      <td>2016-01-01</td>\n",
       "    </tr>\n",
       "    <tr>\n",
       "      <th>1</th>\n",
       "      <td>Nigeria</td>\n",
       "      <td>Agric eggs medium size</td>\n",
       "      <td>1 Dozen</td>\n",
       "      <td>338.797432</td>\n",
       "      <td>2016-01-02</td>\n",
       "    </tr>\n",
       "    <tr>\n",
       "      <th>2</th>\n",
       "      <td>Nigeria</td>\n",
       "      <td>Agric eggs medium size</td>\n",
       "      <td>1 Dozen</td>\n",
       "      <td>350.917655</td>\n",
       "      <td>2016-01-03</td>\n",
       "    </tr>\n",
       "    <tr>\n",
       "      <th>3</th>\n",
       "      <td>Nigeria</td>\n",
       "      <td>Agric eggs medium size</td>\n",
       "      <td>1 Dozen</td>\n",
       "      <td>367.747957</td>\n",
       "      <td>2016-01-04</td>\n",
       "    </tr>\n",
       "    <tr>\n",
       "      <th>4</th>\n",
       "      <td>Nigeria</td>\n",
       "      <td>Agric eggs medium size</td>\n",
       "      <td>1 Dozen</td>\n",
       "      <td>370.006795</td>\n",
       "      <td>2016-01-05</td>\n",
       "    </tr>\n",
       "  </tbody>\n",
       "</table>\n",
       "</div>"
      ],
      "text/plain": [
       "     state                    item     Unit       Value       Date\n",
       "0  Nigeria  Agric eggs medium size  1 Dozen  328.844837 2016-01-01\n",
       "1  Nigeria  Agric eggs medium size  1 Dozen  338.797432 2016-01-02\n",
       "2  Nigeria  Agric eggs medium size  1 Dozen  350.917655 2016-01-03\n",
       "3  Nigeria  Agric eggs medium size  1 Dozen  367.747957 2016-01-04\n",
       "4  Nigeria  Agric eggs medium size  1 Dozen  370.006795 2016-01-05"
      ]
     },
     "execution_count": 3,
     "metadata": {},
     "output_type": "execute_result"
    }
   ],
   "source": [
    "# Convert date column to datetime\n",
    "time_index = data['Date']\n",
    "time_index = pd.Series([f\"1-{i[5:]}-{i[:4]}\" for i in time_index])\n",
    "time_index = pd.to_datetime(time_index)\n",
    "formatted_data = data.drop('Date', axis=1)\n",
    "formatted_data['Date'] = time_index\n",
    "\n",
    "# Basic data check\n",
    "formatted_data.head()"
   ]
  },
  {
   "cell_type": "code",
   "execution_count": 4,
   "metadata": {},
   "outputs": [],
   "source": [
    "# Assigning Desired Products & Time Range\n",
    "allowed_products = ['Agric eggs medium size', 'Agric eggs(medium size price of one)', 'Beans brown,sold loose', 'Beans:white black eye. sold loose', 'Gari white,sold loose', 'Gari yellow,sold loose', 'Rice agric sold loose', 'Rice local sold loose', 'Rice Medium Grained']\n",
    "time_range_for_data = [2016, 2017, 2018]"
   ]
  },
  {
   "cell_type": "code",
   "execution_count": 5,
   "metadata": {},
   "outputs": [],
   "source": [
    "# Dividing Data\n",
    "egg_data = formatted_data[formatted_data['item'].str.contains('Agric eggs', case=True, regex=False)]\n",
    "bean_data = formatted_data[formatted_data['item'].str.contains('Beans', case=True, regex=False)]\n",
    "gari_data = formatted_data[formatted_data['item'].str.contains('Gari ', case=True, regex=False)]\n",
    "rice_data = formatted_data[formatted_data['item'].str.contains('Rice ', case=True, regex=False)]"
   ]
  },
  {
   "cell_type": "code",
   "execution_count": 6,
   "metadata": {},
   "outputs": [],
   "source": [
    "# Data Table Reasining \n",
    "nig_egg = egg_data.drop([i for i, r in egg_data.iterrows() if r['state'] != \"Nigeria\"])\n",
    "nig_bean = bean_data.drop([i for i, r in bean_data.iterrows() if r['state'] != \"Nigeria\"])\n",
    "nig_garri = gari_data.drop([i for i, r in gari_data.iterrows() if r['state'] != \"Nigeria\"])\n",
    "nig_rice = rice_data.drop([i for i, r in rice_data.iterrows() if r['state'] != \"Nigeria\"])"
   ]
  },
  {
   "cell_type": "code",
   "execution_count": 7,
   "metadata": {},
   "outputs": [],
   "source": [
    "# A function to Create each Product Based data\n",
    "def create_product_based_data(*args):\n",
    "    data = []\n",
    "    for i in args:\n",
    "        dataframe = pd.DataFrame(\n",
    "            {\n",
    "                \"Year\": pd.DatetimeIndex(i['Date']).year,\n",
    "                \"Month\": pd.DatetimeIndex(i['Date']).day, \n",
    "                \"Product\": i['item'],\n",
    "                \"Price\": i['Value'],\n",
    "                \"Unit\": i['Unit'],\n",
    "            }\n",
    "        )\n",
    "        data.append(dataframe)\n",
    "    return data"
   ]
  },
  {
   "cell_type": "code",
   "execution_count": 8,
   "metadata": {},
   "outputs": [],
   "source": [
    "cleaned_data_nigeria = create_product_based_data(nig_egg, nig_bean, nig_garri, nig_rice)\n",
    "cleaned_data_all = create_product_based_data(egg_data, bean_data, gari_data, rice_data)"
   ]
  },
  {
   "cell_type": "code",
   "execution_count": 9,
   "metadata": {},
   "outputs": [],
   "source": [
    "def produce_data(cdn):\n",
    "    for i in cdn:\n",
    "        i['First Lag'] = i['Price'].shift(1)\n",
    "        i['Second Lag'] = i['Price'].shift(2)\n",
    "        i['Rolling Mean'] = i['Price'].rolling(window=3).mean()\n",
    "        i.dropna(inplace=True)\n",
    "    return cdn"
   ]
  },
  {
   "cell_type": "code",
   "execution_count": 10,
   "metadata": {},
   "outputs": [],
   "source": [
    "model_data = produce_data(cleaned_data_all)\n"
   ]
  },
  {
   "cell_type": "code",
   "execution_count": 11,
   "metadata": {},
   "outputs": [],
   "source": [
    "\n",
    "def linear_reg_mod(x_train, y_train, x_test, data_type):\n",
    "    data_type = \"eggs\" if data_type == 0 else \"beans\" if data_type == 1 else \"garri\" if data_type == 2 else \"rice\"\n",
    "    lin_reg = LinearRegression()\n",
    "    lin_reg.fit(x_train, y_train)\n",
    "    dump(lin_reg, f'models/{data_type}_linear_regression_model.joblib')\n",
    "    lin_pred = lin_reg.predict(x_test)\n",
    "    return lin_pred\n",
    "    \n",
    "def ridge_mod(x_train, y_train, x_test, data_type):\n",
    "    data_type = \"eggs\" if data_type == 0 else \"beans\" if data_type == 1 else \"garri\" if data_type == 2 else \"rice\"\n",
    "    ridge = Ridge(alpha=0.5)\n",
    "    ridge.fit(x_train, y_train)\n",
    "    dump(ridge, f'models/{data_type}_ridge_model.joblib')\n",
    "    ridge_pred = ridge.predict(x_test)\n",
    "    return ridge_pred\n",
    "\n",
    "\n",
    "def pipeline_mod(x_train, y_train, x_test, data_type):\n",
    "    data_type = \"eggs\" if data_type == 0 else \"beans\" if data_type == 1 else \"garri\" if data_type == 2 else \"rice\"\n",
    "    pipeline = make_pipeline(PolynomialFeatures(2), LinearRegression())\n",
    "    pipeline.fit(x_train, y_train)\n",
    "    dump(pipeline, f'models/{data_type}_pipeline_model.joblib')\n",
    "    pipe_pred = pipeline.predict(x_test)\n",
    "    return pipe_pred\n",
    "    \n",
    "\n",
    "def ensembly_mod(x_train, y_train, x_test, data_type):\n",
    "    data_type = \"eggs\" if data_type == 0 else \"beans\" if data_type == 1 else \"garri\" if data_type == 2 else \"rice\"\n",
    "    \n",
    "    # Define individual models (base models)\n",
    "    base_models = [\n",
    "        ('lr', LinearRegression()),\n",
    "        ('rd', Ridge(alpha=0.4)),\n",
    "        ('rf', RandomForestRegressor(n_estimators=100)),\n",
    "        ('pp', make_pipeline(PolynomialFeatures(2), LinearRegression()))\n",
    "    ]\n",
    "    \n",
    "    # Define the meta-model\n",
    "    meta_model = SVR()\n",
    "\n",
    "    # Create a stacking regressor\n",
    "    stacking_regressor = StackingRegressor(estimators=base_models, final_estimator=meta_model)\n",
    "\n",
    "    # Train the stacking regressor\n",
    "    stacking_regressor.fit(x_train, y_train)\n",
    "\n",
    "    dump(stacking_regressor, f'models/{data_type}_ensemble_model.joblib')\n",
    "    # Predict using the stacking regressor\n",
    "    stacked_pred = stacking_regressor.predict(x_test)\n",
    "    \n",
    "    return stacked_pred\n",
    "        "
   ]
  },
  {
   "cell_type": "code",
   "execution_count": 12,
   "metadata": {},
   "outputs": [],
   "source": [
    "def trainer(i, param):\n",
    "        return_data = {}\n",
    "        x_train, x_test, y_train, y_test = param # x_train, x_test, y_train, y_test\n",
    "        return_data[f'{i}'] = {\n",
    "            \"Linear Regression\": linear_reg_mod(x_train, y_train, x_test, i), \n",
    "            \"Ridge\": ridge_mod(x_train, y_train, x_test, i), \n",
    "            \"Pipeline(Polynomial Feautures & Linear Regression)\": pipeline_mod(x_train, y_train, x_test, i), \n",
    "            \"Ensembly of all Models\": ensembly_mod(x_train, y_train, x_test, i)\n",
    "        }\n",
    "        return return_data"
   ]
  },
  {
   "cell_type": "code",
   "execution_count": 13,
   "metadata": {},
   "outputs": [],
   "source": [
    "def _default(model, y_test):  \n",
    "        mse = np.sqrt(mean_squared_error(y_test, model))\n",
    "        data = {\n",
    "            'Model Result': mse,\n",
    "            'Mean Absolute Error:': f'{mean_absolute_error(y_test, model):.4e} ({mean_absolute_error(y_test, model)*100:3.3}%)',\n",
    "            'Mean Squared Error' :f'{mse:.4e} ({mse/np.mean(model)*100:3.3}%)',\n",
    "        }\n",
    "        return data"
   ]
  },
  {
   "cell_type": "code",
   "execution_count": 14,
   "metadata": {},
   "outputs": [],
   "source": [
    "def best_mod(model_scores:dict):\n",
    "    model_scores = {i: model_scores[i]['Model Result'] for i in model_scores}\n",
    "    best_model_name = min(model_scores, key=model_scores.get)\n",
    "    best_model_score = model_scores[best_model_name]\n",
    "    return best_model_name, best_model_score"
   ]
  },
  {
   "cell_type": "code",
   "execution_count": 15,
   "metadata": {},
   "outputs": [],
   "source": [
    "def evaluater(data, data_id, y_test):\n",
    "        models: dict = data[str(data_id)]\n",
    "        results = {'default_scoring':{}}\n",
    "        best_model = {'default_scoring': ''}\n",
    "        for model_name, model in models.items():\n",
    "            results['default_scoring'].update({model_name :_default(model, y_test)})\n",
    "        best_model['default_scoring'] = best_mod(results['default_scoring'])\n",
    "        return results, best_model"
   ]
  },
  {
   "cell_type": "code",
   "execution_count": 16,
   "metadata": {},
   "outputs": [
    {
     "name": "stdout",
     "output_type": "stream",
     "text": [
      "3\n",
      "        First Lag  Second Lag  Rolling Mean  Year  Month\n",
      "47146  308.823529  308.823529    308.823529  2017     11\n",
      "47147  308.823529  308.823529    320.627855  2017     12\n",
      "47148  344.236505  308.823529    331.853345  2018      1\n",
      "47149  342.500000  344.236505    337.245502  2018      2\n",
      "47150  325.000000  342.500000    317.123656  2018      3\n",
      "...           ...         ...           ...   ...    ...\n",
      "58063  326.143040  306.666667    322.033250  2018      8\n",
      "58064  333.290043  326.143040    330.128488  2018      9\n",
      "58065  330.952381  333.290043    300.303030  2018     10\n",
      "58066  236.666667  330.952381    268.095238  2018     11\n",
      "58067  236.666667  236.666667    240.299718  2018     12\n",
      "\n",
      "[1094 rows x 5 columns]\n"
     ]
    }
   ],
   "source": [
    "\n",
    "trained = []\n",
    "evaluated = []\n",
    "for i, data in enumerate(model_data):\n",
    "    features = data[['First Lag', 'Second Lag', 'Rolling Mean', 'Year', 'Month']]\n",
    "    target = data['Price']\n",
    "    x_train, x_test, y_train, y_test = train_test_split(features, target, test_size=0.2, shuffle=False)\n",
    "    param =  x_train, x_test, y_train, y_test\n",
    "    trained_data = trainer(i, param)\n",
    "    evaluated_result = evaluater(trained_data, i, param[3])\n",
    "    trained.append(trained_data)\n",
    "    evaluated.append(evaluated_result)\n",
    "    # print(evaluated_result)\n",
    "    # self.plotter(trained_data, i)\n",
    "    \n",
    "\n",
    "    "
   ]
  },
  {
   "cell_type": "code",
   "execution_count": 19,
   "metadata": {},
   "outputs": [],
   "source": [
    "from joblib import load\n",
    "\n",
    "\n",
    "def get_model(model_name, data_type):\n",
    "    models = ['ensemble_model', 'pipeline_model', 'ridge_model', 'linear_regression_model']\n",
    "    if model_name in models:\n",
    "        model = load(f'models/{data_type}_{model_name}.joblib')\n",
    "        return model\n",
    "    else:\n",
    "        return None"
   ]
  },
  {
   "cell_type": "code",
   "execution_count": 20,
   "metadata": {},
   "outputs": [],
   "source": [
    "# EggS\n",
    "# predict_data = model_data[0][model_data[0]['Product'].str.contains('Agric eggs medium size', case=True, regex=False)]\n",
    "# Beans\n",
    "values = []\n",
    "for data_type, i in enumerate(model_data):\n",
    "    predict_data = i\n",
    "    features = predict_data[['First Lag', 'Second Lag', 'Rolling Mean', 'Year', 'Month']]\n",
    "    target = predict_data['Price']\n",
    "    x_train, x_test, y_train, y_test = train_test_split(features, target, test_size=0.2, shuffle=False)\n",
    "\n",
    "\n",
    "    predict_model = get_model('linear_regression_model', f'{\"eggs\" if data_type == 0 else \"beans\" if data_type == 1 else \"garri\" if data_type == 2 else \"rice\"}')\n",
    "    years = list(year for year in range(2024, 2027) for _ in range(12))\n",
    "    months = list(month  for month in range(3) for month in range(1, 13))\n",
    "\n",
    "    new_data = pd.DataFrame({   \n",
    "        'First Lag': x_test['First Lag'][:36],\n",
    "        'Second Lag': x_test['Second Lag'][:36],\n",
    "        'Rolling Mean': x_test['Rolling Mean'][:36],\n",
    "        'Year': years,\n",
    "        'Month': months\n",
    "\n",
    "    })\n",
    "\n",
    "    predicted_values = list(round(i, 2) for i in predict_model.predict(new_data))\n",
    "\n",
    "    values.append(predicted_values)\n",
    "    predicted_values"
   ]
  },
  {
   "cell_type": "code",
   "execution_count": null,
   "metadata": {
    "tags": [
     "parameters"
    ]
   },
   "outputs": [],
   "source": [
    "def plot():\n",
    "    plt.plot(values[0], label='Eggs', color='red', linestyle='-',)\n",
    "    plt.plot(values[1], label='Beans', color='blue', linestyle='--',)\n",
    "    plt.plot(values[2], label='Garri', color='black', linestyle='-.',)\n",
    "    plt.plot(values[3], label='Rice', color='green', linestyle=':',)\n",
    "\n",
    "    # Adding labels and title\n",
    "    plt.title('Predicted Values Line Graph')\n",
    "    plt.xlabel('Time Step')\n",
    "    plt.ylabel('Predicted Value')\n",
    "    plt.legend()  # Show the legend\n",
    "    # Show the graph\n",
    "    plt.show()"
   ]
  }
 ],
 "metadata": {
  "kernelspec": {
   "display_name": "env",
   "language": "python",
   "name": "python3"
  },
  "language_info": {
   "codemirror_mode": {
    "name": "ipython",
    "version": 3
   },
   "file_extension": ".py",
   "mimetype": "text/x-python",
   "name": "python",
   "nbconvert_exporter": "python",
   "pygments_lexer": "ipython3",
   "version": "3.12.6"
  }
 },
 "nbformat": 4,
 "nbformat_minor": 2
}
